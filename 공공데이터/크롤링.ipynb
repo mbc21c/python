{
 "metadata": {
  "language_info": {
   "codemirror_mode": {
    "name": "ipython",
    "version": 3
   },
   "file_extension": ".py",
   "mimetype": "text/x-python",
   "name": "python",
   "nbconvert_exporter": "python",
   "pygments_lexer": "ipython3",
   "version": "3.8.5-final"
  },
  "orig_nbformat": 2,
  "kernelspec": {
   "name": "python3",
   "display_name": "Python 3.8.5 32-bit",
   "metadata": {
    "interpreter": {
     "hash": "7987c57931f2365761dc2a5f85e647decf73af6edff0c78918b92bfe7c5512ba"
    }
   }
  }
 },
 "nbformat": 4,
 "nbformat_minor": 2,
 "cells": [
  {
   "cell_type": "code",
   "execution_count": 33,
   "metadata": {
    "tags": []
   },
   "outputs": [
    {
     "output_type": "stream",
     "name": "stdout",
     "text": [
      "제목 : 삼성세탁기 및 냉장고 판매\n",
      "가격 : 100,000원\n",
      "지역 : 부산 동래구 명장동\n",
      "      \n",
      "제목 : 전자레인지 팝니다.\n",
      "가격 : 10,000원\n",
      "지역 : 서울 강남구 대치동\n",
      "      \n",
      "제목 : 멜킨스포츠 스텝퍼 판매합니다\n",
      "가격 : 10,000원\n",
      "지역 : 경기도 용인시 수지구 상현1동\n",
      "      \n",
      "제목 : 낚시대 무료로 가져가세요\n",
      "가격 : -\n",
      "지역 : 충북 청주시 흥덕구 복대1동\n",
      "      \n",
      "제목 : 숀리 엑스바이크 프라임 / 실내자전거 / SeanLee X bike\n",
      "가격 : 50,000원\n",
      "지역 : 광주 서구 화정4동\n",
      "      \n",
      "제목 : 전자레인지 판매합니다\n",
      "가격 : 20,000원\n",
      "지역 : 대전 서구 도마동\n",
      "      \n",
      "제목 : 이엠텍 지포스 GTX 1060 STORM X Dual D5 6GB 팝니다. \n",
      "가격 : 150,000원\n",
      "지역 : 부산 북구 만덕동\n",
      "      \n",
      "제목 : 네스프레소 픽시 C60\n",
      "가격 : 20,000원\n",
      "지역 : 경기도 화성시 능동\n",
      "      \n",
      "제목 : 전자레인지 무료\n",
      "가격 : 무료나눔\n",
      "지역 : 광주 남구 백운동\n",
      "      \n",
      "제목 : 삼성 워블세탁기 16kg 10만원\n",
      "가격 : 100,000원\n",
      "지역 : 광주 서구 풍암동\n",
      "      \n"
     ]
    }
   ],
   "source": [
    "import requests\n",
    "from bs4 import BeautifulSoup\n",
    "\n",
    "webpage = requests.get(\"https://www.daangn.com/hot_articles\")\n",
    "soup = BeautifulSoup(webpage.content, \"html.parser\")\n",
    "for x in range(0,10):\n",
    "\ttitle = soup.select(\".card-title\")[x].get_text()\n",
    "\tprice = soup.select(\".card-price\")[x].get_text().strip()\n",
    "\tregion = soup.select(\".card-region-name\")[x].get_text().lstrip()\n",
    "\tprint(\"제목 : %s\"%title)\n",
    "\tprint(\"가격 : %s\"%price)\n",
    "\tprint(\"지역 : %s\"%region)\n",
    "\n"
   ]
  },
  {
   "cell_type": "code",
   "execution_count": null,
   "metadata": {},
   "outputs": [],
   "source": []
  }
 ]
}